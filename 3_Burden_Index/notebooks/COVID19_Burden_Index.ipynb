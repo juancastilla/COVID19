{
 "cells": [
  {
   "cell_type": "markdown",
   "metadata": {},
   "source": [
    "# COVID19 Burden Index"
   ]
  },
  {
   "cell_type": "markdown",
   "metadata": {},
   "source": [
    "It's the burden, stupid!: An index to track and manage the burden of COVID-19 on global healthcare systems"
   ]
  },
  {
   "cell_type": "markdown",
   "metadata": {},
   "source": [
    "## Imports"
   ]
  },
  {
   "cell_type": "code",
   "execution_count": 1,
   "metadata": {},
   "outputs": [],
   "source": [
    "import pandas as pd\n",
    "import numpy as np\n",
    "import matplotlib.pyplot as plt\n",
    "import COVID19Py"
   ]
  },
  {
   "cell_type": "markdown",
   "metadata": {},
   "source": [
    "## Sandbox"
   ]
  },
  {
   "cell_type": "code",
   "execution_count": 2,
   "metadata": {},
   "outputs": [],
   "source": [
    "covid19 = COVID19Py.COVID19(data_source=\"jhu\")"
   ]
  },
  {
   "cell_type": "code",
   "execution_count": 3,
   "metadata": {},
   "outputs": [],
   "source": [
    "data = covid19.getAll(timelines=True)"
   ]
  },
  {
   "cell_type": "code",
   "execution_count": 4,
   "metadata": {},
   "outputs": [],
   "source": [
    "location = covid19.getLocationByCountryCode(\"AU\", timelines=True)"
   ]
  },
  {
   "cell_type": "code",
   "execution_count": 5,
   "metadata": {},
   "outputs": [],
   "source": [
    "#location"
   ]
  },
  {
   "cell_type": "code",
   "execution_count": 6,
   "metadata": {},
   "outputs": [],
   "source": [
    "df_ACT = pd.DataFrame.from_dict(location[0]['timelines']['confirmed']['timeline'], orient='index')\n",
    "df_NSW = pd.DataFrame.from_dict(location[1]['timelines']['confirmed']['timeline'], orient='index')\n",
    "df_NT = pd.DataFrame.from_dict(location[2]['timelines']['confirmed']['timeline'], orient='index')\n",
    "df_QLD = pd.DataFrame.from_dict(location[3]['timelines']['confirmed']['timeline'], orient='index')\n",
    "df_SA = pd.DataFrame.from_dict(location[4]['timelines']['confirmed']['timeline'], orient='index')\n",
    "df_TAS = pd.DataFrame.from_dict(location[5]['timelines']['confirmed']['timeline'], orient='index')\n",
    "df_VIC = pd.DataFrame.from_dict(location[6]['timelines']['confirmed']['timeline'], orient='index')\n",
    "df_WA = pd.DataFrame.from_dict(location[7]['timelines']['confirmed']['timeline'], orient='index')"
   ]
  },
  {
   "cell_type": "code",
   "execution_count": 7,
   "metadata": {},
   "outputs": [
    {
     "data": {
      "text/html": [
       "<div>\n",
       "<style scoped>\n",
       "    .dataframe tbody tr th:only-of-type {\n",
       "        vertical-align: middle;\n",
       "    }\n",
       "\n",
       "    .dataframe tbody tr th {\n",
       "        vertical-align: top;\n",
       "    }\n",
       "\n",
       "    .dataframe thead th {\n",
       "        text-align: right;\n",
       "    }\n",
       "</style>\n",
       "<table border=\"1\" class=\"dataframe\">\n",
       "  <thead>\n",
       "    <tr style=\"text-align: right;\">\n",
       "      <th></th>\n",
       "      <th>cumulative_confirmed_cases</th>\n",
       "    </tr>\n",
       "  </thead>\n",
       "  <tbody>\n",
       "    <tr>\n",
       "      <th>2020-01-22 00:00:00+00:00</th>\n",
       "      <td>0</td>\n",
       "    </tr>\n",
       "    <tr>\n",
       "      <th>2020-01-23 00:00:00+00:00</th>\n",
       "      <td>0</td>\n",
       "    </tr>\n",
       "    <tr>\n",
       "      <th>2020-01-24 00:00:00+00:00</th>\n",
       "      <td>0</td>\n",
       "    </tr>\n",
       "    <tr>\n",
       "      <th>2020-01-25 00:00:00+00:00</th>\n",
       "      <td>0</td>\n",
       "    </tr>\n",
       "    <tr>\n",
       "      <th>2020-01-26 00:00:00+00:00</th>\n",
       "      <td>4</td>\n",
       "    </tr>\n",
       "    <tr>\n",
       "      <th>...</th>\n",
       "      <td>...</td>\n",
       "    </tr>\n",
       "    <tr>\n",
       "      <th>2020-03-27 00:00:00+00:00</th>\n",
       "      <td>3143</td>\n",
       "    </tr>\n",
       "    <tr>\n",
       "      <th>2020-03-28 00:00:00+00:00</th>\n",
       "      <td>3640</td>\n",
       "    </tr>\n",
       "    <tr>\n",
       "      <th>2020-03-29 00:00:00+00:00</th>\n",
       "      <td>3984</td>\n",
       "    </tr>\n",
       "    <tr>\n",
       "      <th>2020-03-30 00:00:00+00:00</th>\n",
       "      <td>4361</td>\n",
       "    </tr>\n",
       "    <tr>\n",
       "      <th>2020-03-31 00:00:00+00:00</th>\n",
       "      <td>4559</td>\n",
       "    </tr>\n",
       "  </tbody>\n",
       "</table>\n",
       "<p>70 rows × 1 columns</p>\n",
       "</div>"
      ],
      "text/plain": [
       "                           cumulative_confirmed_cases\n",
       "2020-01-22 00:00:00+00:00                           0\n",
       "2020-01-23 00:00:00+00:00                           0\n",
       "2020-01-24 00:00:00+00:00                           0\n",
       "2020-01-25 00:00:00+00:00                           0\n",
       "2020-01-26 00:00:00+00:00                           4\n",
       "...                                               ...\n",
       "2020-03-27 00:00:00+00:00                        3143\n",
       "2020-03-28 00:00:00+00:00                        3640\n",
       "2020-03-29 00:00:00+00:00                        3984\n",
       "2020-03-30 00:00:00+00:00                        4361\n",
       "2020-03-31 00:00:00+00:00                        4559\n",
       "\n",
       "[70 rows x 1 columns]"
      ]
     },
     "execution_count": 7,
     "metadata": {},
     "output_type": "execute_result"
    }
   ],
   "source": [
    "df_AU = df_ACT + df_NSW + df_NT + df_QLD + df_SA + df_TAS + df_VIC + df_WA\n",
    "df_AU = df_AU.rename(columns={0: \"cumulative_confirmed_cases\"})\n",
    "df_AU.index = pd.to_datetime(df_AU.index)\n",
    "df_AU"
   ]
  },
  {
   "cell_type": "code",
   "execution_count": 8,
   "metadata": {},
   "outputs": [
    {
     "data": {
      "text/plain": [
       "<matplotlib.axes._subplots.AxesSubplot at 0x1179a5160>"
      ]
     },
     "execution_count": 8,
     "metadata": {},
     "output_type": "execute_result"
    },
    {
     "data": {
      "image/png": "[encoded data removed]",
      "text/plain": [
       "<Figure size 432x288 with 1 Axes>"
      ]
     },
     "metadata": {
      "needs_background": "light"
     },
     "output_type": "display_data"
    }
   ],
   "source": [
    "df_AU.plot()"
   ]
  },
  {
   "cell_type": "code",
   "execution_count": 9,
   "metadata": {},
   "outputs": [],
   "source": [
    "Infected_Needing_ICU_ratio = [0.01, 0.02, 0.05, 0.1, 0.15]\n",
    "Baseline_ICU_occupancy = 0.8"
   ]
  },
  {
   "cell_type": "code",
   "execution_count": 16,
   "metadata": {},
   "outputs": [
    {
     "data": {
      "text/html": [
       "<div>\n",
       "<style scoped>\n",
       "    .dataframe tbody tr th:only-of-type {\n",
       "        vertical-align: middle;\n",
       "    }\n",
       "\n",
       "    .dataframe tbody tr th {\n",
       "        vertical-align: top;\n",
       "    }\n",
       "\n",
       "    .dataframe thead th {\n",
       "        text-align: right;\n",
       "    }\n",
       "</style>\n",
       "<table border=\"1\" class=\"dataframe\">\n",
       "  <thead>\n",
       "    <tr style=\"text-align: right;\">\n",
       "      <th></th>\n",
       "      <th>cumulative_confirmed_cases</th>\n",
       "      <th>CBI_1pct</th>\n",
       "      <th>CBI_2pct</th>\n",
       "      <th>CBI_5pct</th>\n",
       "      <th>CBI_10pct</th>\n",
       "      <th>CBI_15pct</th>\n",
       "    </tr>\n",
       "  </thead>\n",
       "  <tbody>\n",
       "    <tr>\n",
       "      <th>2020-01-22 00:00:00+00:00</th>\n",
       "      <td>0</td>\n",
       "      <td>0.000000</td>\n",
       "      <td>0.000000</td>\n",
       "      <td>0.000000</td>\n",
       "      <td>0.000000</td>\n",
       "      <td>0.000000</td>\n",
       "    </tr>\n",
       "    <tr>\n",
       "      <th>2020-01-23 00:00:00+00:00</th>\n",
       "      <td>0</td>\n",
       "      <td>0.000000</td>\n",
       "      <td>0.000000</td>\n",
       "      <td>0.000000</td>\n",
       "      <td>0.000000</td>\n",
       "      <td>0.000000</td>\n",
       "    </tr>\n",
       "    <tr>\n",
       "      <th>2020-01-24 00:00:00+00:00</th>\n",
       "      <td>0</td>\n",
       "      <td>0.000000</td>\n",
       "      <td>0.000000</td>\n",
       "      <td>0.000000</td>\n",
       "      <td>0.000000</td>\n",
       "      <td>0.000000</td>\n",
       "    </tr>\n",
       "    <tr>\n",
       "      <th>2020-01-25 00:00:00+00:00</th>\n",
       "      <td>0</td>\n",
       "      <td>0.000000</td>\n",
       "      <td>0.000000</td>\n",
       "      <td>0.000000</td>\n",
       "      <td>0.000000</td>\n",
       "      <td>0.000000</td>\n",
       "    </tr>\n",
       "    <tr>\n",
       "      <th>2020-01-26 00:00:00+00:00</th>\n",
       "      <td>4</td>\n",
       "      <td>0.000091</td>\n",
       "      <td>0.000182</td>\n",
       "      <td>0.000455</td>\n",
       "      <td>0.000909</td>\n",
       "      <td>0.001364</td>\n",
       "    </tr>\n",
       "    <tr>\n",
       "      <th>...</th>\n",
       "      <td>...</td>\n",
       "      <td>...</td>\n",
       "      <td>...</td>\n",
       "      <td>...</td>\n",
       "      <td>...</td>\n",
       "      <td>...</td>\n",
       "    </tr>\n",
       "    <tr>\n",
       "      <th>2020-03-27 00:00:00+00:00</th>\n",
       "      <td>3143</td>\n",
       "      <td>0.071432</td>\n",
       "      <td>0.142864</td>\n",
       "      <td>0.357159</td>\n",
       "      <td>0.714318</td>\n",
       "      <td>1.071477</td>\n",
       "    </tr>\n",
       "    <tr>\n",
       "      <th>2020-03-28 00:00:00+00:00</th>\n",
       "      <td>3640</td>\n",
       "      <td>0.082727</td>\n",
       "      <td>0.165455</td>\n",
       "      <td>0.413636</td>\n",
       "      <td>0.827273</td>\n",
       "      <td>1.240909</td>\n",
       "    </tr>\n",
       "    <tr>\n",
       "      <th>2020-03-29 00:00:00+00:00</th>\n",
       "      <td>3984</td>\n",
       "      <td>0.090545</td>\n",
       "      <td>0.181091</td>\n",
       "      <td>0.452727</td>\n",
       "      <td>0.905455</td>\n",
       "      <td>1.358182</td>\n",
       "    </tr>\n",
       "    <tr>\n",
       "      <th>2020-03-30 00:00:00+00:00</th>\n",
       "      <td>4361</td>\n",
       "      <td>0.099114</td>\n",
       "      <td>0.198227</td>\n",
       "      <td>0.495568</td>\n",
       "      <td>0.991136</td>\n",
       "      <td>1.486705</td>\n",
       "    </tr>\n",
       "    <tr>\n",
       "      <th>2020-03-31 00:00:00+00:00</th>\n",
       "      <td>4559</td>\n",
       "      <td>0.103614</td>\n",
       "      <td>0.207227</td>\n",
       "      <td>0.518068</td>\n",
       "      <td>1.036136</td>\n",
       "      <td>1.554205</td>\n",
       "    </tr>\n",
       "  </tbody>\n",
       "</table>\n",
       "<p>70 rows × 6 columns</p>\n",
       "</div>"
      ],
      "text/plain": [
       "                           cumulative_confirmed_cases  CBI_1pct  CBI_2pct  \\\n",
       "2020-01-22 00:00:00+00:00                           0  0.000000  0.000000   \n",
       "2020-01-23 00:00:00+00:00                           0  0.000000  0.000000   \n",
       "2020-01-24 00:00:00+00:00                           0  0.000000  0.000000   \n",
       "2020-01-25 00:00:00+00:00                           0  0.000000  0.000000   \n",
       "2020-01-26 00:00:00+00:00                           4  0.000091  0.000182   \n",
       "...                                               ...       ...       ...   \n",
       "2020-03-27 00:00:00+00:00                        3143  0.071432  0.142864   \n",
       "2020-03-28 00:00:00+00:00                        3640  0.082727  0.165455   \n",
       "2020-03-29 00:00:00+00:00                        3984  0.090545  0.181091   \n",
       "2020-03-30 00:00:00+00:00                        4361  0.099114  0.198227   \n",
       "2020-03-31 00:00:00+00:00                        4559  0.103614  0.207227   \n",
       "\n",
       "                           CBI_5pct  CBI_10pct  CBI_15pct  \n",
       "2020-01-22 00:00:00+00:00  0.000000   0.000000   0.000000  \n",
       "2020-01-23 00:00:00+00:00  0.000000   0.000000   0.000000  \n",
       "2020-01-24 00:00:00+00:00  0.000000   0.000000   0.000000  \n",
       "2020-01-25 00:00:00+00:00  0.000000   0.000000   0.000000  \n",
       "2020-01-26 00:00:00+00:00  0.000455   0.000909   0.001364  \n",
       "...                             ...        ...        ...  \n",
       "2020-03-27 00:00:00+00:00  0.357159   0.714318   1.071477  \n",
       "2020-03-28 00:00:00+00:00  0.413636   0.827273   1.240909  \n",
       "2020-03-29 00:00:00+00:00  0.452727   0.905455   1.358182  \n",
       "2020-03-30 00:00:00+00:00  0.495568   0.991136   1.486705  \n",
       "2020-03-31 00:00:00+00:00  0.518068   1.036136   1.554205  \n",
       "\n",
       "[70 rows x 6 columns]"
      ]
     },
     "execution_count": 16,
     "metadata": {},
     "output_type": "execute_result"
    }
   ],
   "source": [
    "df_AU_CBI = df_AU\n",
    "df_AU_CBI['CBI_1pct'] = (df_AU['cumulative_confirmed_cases'] * Infected_Needing_ICU_ratio[0]) / (((1 - Baseline_ICU_occupancy)) * 2200)\n",
    "df_AU_CBI['CBI_2pct'] = (df_AU['cumulative_confirmed_cases'] * Infected_Needing_ICU_ratio[1]) / (((1 - Baseline_ICU_occupancy)) * 2200)\n",
    "df_AU_CBI['CBI_5pct'] = (df_AU['cumulative_confirmed_cases'] * Infected_Needing_ICU_ratio[2]) / (((1 - Baseline_ICU_occupancy)) * 2200)\n",
    "df_AU_CBI['CBI_10pct'] = (df_AU['cumulative_confirmed_cases'] * Infected_Needing_ICU_ratio[3]) / (((1 - Baseline_ICU_occupancy)) * 2200)\n",
    "df_AU_CBI['CBI_15pct'] = (df_AU['cumulative_confirmed_cases'] * Infected_Needing_ICU_ratio[4]) / (((1 - Baseline_ICU_occupancy)) * 2200)\n",
    "df_AU_CBI"
   ]
  },
  {
   "cell_type": "markdown",
   "metadata": {},
   "source": [
    "convert the index to datetime"
   ]
  },
  {
   "cell_type": "code",
   "execution_count": 17,
   "metadata": {},
   "outputs": [],
   "source": [
    "df_AU_CBI = df_AU_CBI.drop(columns=['cumulative_confirmed_cases'])\n",
    "df_AU_CBI['CBI=1 (healthcare system burnout limit)'] = 1"
   ]
  },
  {
   "cell_type": "code",
   "execution_count": 18,
   "metadata": {},
   "outputs": [
    {
     "data": {
      "text/plain": [
       "<matplotlib.axes._subplots.AxesSubplot at 0x11a4697c0>"
      ]
     },
     "execution_count": 18,
     "metadata": {},
     "output_type": "execute_result"
    },
    {
     "data": {
      "image/png": "[encoded data removed]",
      "text/plain": [
       "<Figure size 432x288 with 1 Axes>"
      ]
     },
     "metadata": {
      "needs_background": "light"
     },
     "output_type": "display_data"
    }
   ],
   "source": [
    "df_AU_CBI.plot(title='COVID-19 Burden Index — Australia',logy=False)"
   ]
  },
  {
   "cell_type": "code",
   "execution_count": null,
   "metadata": {},
   "outputs": [],
   "source": []
  },
  {
   "cell_type": "code",
   "execution_count": null,
   "metadata": {},
   "outputs": [],
   "source": []
  },
  {
   "cell_type": "code",
   "execution_count": null,
   "metadata": {},
   "outputs": [],
   "source": []
  },
  {
   "cell_type": "code",
   "execution_count": null,
   "metadata": {},
   "outputs": [],
   "source": []
  }
 ],
 "metadata": {
  "kernelspec": {
   "display_name": "COVID19",
   "language": "python",
   "name": "covid19"
  },
  "language_info": {
   "codemirror_mode": {
    "name": "ipython",
    "version": 3
   },
   "file_extension": ".py",
   "mimetype": "text/x-python",
   "name": "python",
   "nbconvert_exporter": "python",
   "pygments_lexer": "ipython3",
   "version": "3.8.2"
  }
 },
 "nbformat": 4,
 "nbformat_minor": 4
}
