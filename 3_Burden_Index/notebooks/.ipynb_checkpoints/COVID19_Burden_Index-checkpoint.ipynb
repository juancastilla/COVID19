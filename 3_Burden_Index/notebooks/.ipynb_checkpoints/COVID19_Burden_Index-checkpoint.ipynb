{
 "cells": [
  {
   "cell_type": "markdown",
   "metadata": {},
   "source": [
    "# COVID19 Burden Index"
   ]
  },
  {
   "cell_type": "markdown",
   "metadata": {},
   "source": [
    "It's the burden, stupid!: An index to tack and manage the burden of COVID-19 on global healthcare systems"
   ]
  },
  {
   "cell_type": "markdown",
   "metadata": {},
   "source": [
    "## Imports"
   ]
  },
  {
   "cell_type": "code",
   "execution_count": 87,
   "metadata": {},
   "outputs": [],
   "source": [
    "import pandas as pd\n",
    "import numpy as np\n",
    "import matplotlib.pyplot as plt\n",
    "import COVID19Py"
   ]
  },
  {
   "cell_type": "markdown",
   "metadata": {},
   "source": [
    "## Sandbox"
   ]
  },
  {
   "cell_type": "code",
   "execution_count": 132,
   "metadata": {},
   "outputs": [],
   "source": [
    "covid19 = COVID19Py.COVID19(data_source=\"jhu\")"
   ]
  },
  {
   "cell_type": "code",
   "execution_count": 133,
   "metadata": {},
   "outputs": [],
   "source": [
    "data = covid19.getAll(timelines=True)"
   ]
  },
  {
   "cell_type": "code",
   "execution_count": 134,
   "metadata": {},
   "outputs": [],
   "source": [
    "location = covid19.getLocationByCountryCode(\"AU\", timelines=True)"
   ]
  },
  {
   "cell_type": "code",
   "execution_count": 135,
   "metadata": {},
   "outputs": [],
   "source": [
    "#location"
   ]
  },
  {
   "cell_type": "code",
   "execution_count": 136,
   "metadata": {},
   "outputs": [],
   "source": [
    "df_ACT = pd.DataFrame.from_dict(location[0]['timelines']['confirmed']['timeline'], orient='index')\n",
    "df_NSW = pd.DataFrame.from_dict(location[1]['timelines']['confirmed']['timeline'], orient='index')\n",
    "df_NT = pd.DataFrame.from_dict(location[2]['timelines']['confirmed']['timeline'], orient='index')\n",
    "df_QLD = pd.DataFrame.from_dict(location[3]['timelines']['confirmed']['timeline'], orient='index')\n",
    "df_SA = pd.DataFrame.from_dict(location[4]['timelines']['confirmed']['timeline'], orient='index')\n",
    "df_TAS = pd.DataFrame.from_dict(location[5]['timelines']['confirmed']['timeline'], orient='index')\n",
    "df_VIC = pd.DataFrame.from_dict(location[6]['timelines']['confirmed']['timeline'], orient='index')\n",
    "df_WA = pd.DataFrame.from_dict(location[7]['timelines']['confirmed']['timeline'], orient='index')"
   ]
  },
  {
   "cell_type": "code",
   "execution_count": 137,
   "metadata": {},
   "outputs": [],
   "source": [
    "df_AU = df_ACT + df_NSW + df_NT + df_QLD + df_SA + df_TAS + df_VIC + df_WA"
   ]
  },
  {
   "cell_type": "code",
   "execution_count": 141,
   "metadata": {},
   "outputs": [],
   "source": [
    "NeedICU_to_infected_ratio = 0.05\n",
    "BaselineICU_occupancy = 0.8"
   ]
  },
  {
   "cell_type": "code",
   "execution_count": 144,
   "metadata": {},
   "outputs": [],
   "source": [
    "df_AU_CBI = (df_AU * NeedICU_to_infected_ratio) / (((1 - BaselineICU_occupancy)) * 2200)"
   ]
  },
  {
   "cell_type": "code",
   "execution_count": 147,
   "metadata": {},
   "outputs": [],
   "source": [
    "df_AU_CBI.index = pd.to_datetime(df_AU_CBI.index)"
   ]
  },
  {
   "cell_type": "code",
   "execution_count": 148,
   "metadata": {},
   "outputs": [
    {
     "data": {
      "text/html": [
       "<div>\n",
       "<style scoped>\n",
       "    .dataframe tbody tr th:only-of-type {\n",
       "        vertical-align: middle;\n",
       "    }\n",
       "\n",
       "    .dataframe tbody tr th {\n",
       "        vertical-align: top;\n",
       "    }\n",
       "\n",
       "    .dataframe thead th {\n",
       "        text-align: right;\n",
       "    }\n",
       "</style>\n",
       "<table border=\"1\" class=\"dataframe\">\n",
       "  <thead>\n",
       "    <tr style=\"text-align: right;\">\n",
       "      <th></th>\n",
       "      <th>0</th>\n",
       "    </tr>\n",
       "  </thead>\n",
       "  <tbody>\n",
       "    <tr>\n",
       "      <th>2020-01-22 00:00:00+00:00</th>\n",
       "      <td>0.000000</td>\n",
       "    </tr>\n",
       "    <tr>\n",
       "      <th>2020-01-23 00:00:00+00:00</th>\n",
       "      <td>0.000000</td>\n",
       "    </tr>\n",
       "    <tr>\n",
       "      <th>2020-01-24 00:00:00+00:00</th>\n",
       "      <td>0.000000</td>\n",
       "    </tr>\n",
       "    <tr>\n",
       "      <th>2020-01-25 00:00:00+00:00</th>\n",
       "      <td>0.000000</td>\n",
       "    </tr>\n",
       "    <tr>\n",
       "      <th>2020-01-26 00:00:00+00:00</th>\n",
       "      <td>0.000455</td>\n",
       "    </tr>\n",
       "    <tr>\n",
       "      <th>...</th>\n",
       "      <td>...</td>\n",
       "    </tr>\n",
       "    <tr>\n",
       "      <th>2020-03-27 00:00:00+00:00</th>\n",
       "      <td>0.357159</td>\n",
       "    </tr>\n",
       "    <tr>\n",
       "      <th>2020-03-28 00:00:00+00:00</th>\n",
       "      <td>0.413636</td>\n",
       "    </tr>\n",
       "    <tr>\n",
       "      <th>2020-03-29 00:00:00+00:00</th>\n",
       "      <td>0.452727</td>\n",
       "    </tr>\n",
       "    <tr>\n",
       "      <th>2020-03-30 00:00:00+00:00</th>\n",
       "      <td>0.495568</td>\n",
       "    </tr>\n",
       "    <tr>\n",
       "      <th>2020-03-31 00:00:00+00:00</th>\n",
       "      <td>0.518068</td>\n",
       "    </tr>\n",
       "  </tbody>\n",
       "</table>\n",
       "<p>70 rows × 1 columns</p>\n",
       "</div>"
      ],
      "text/plain": [
       "                                  0\n",
       "2020-01-22 00:00:00+00:00  0.000000\n",
       "2020-01-23 00:00:00+00:00  0.000000\n",
       "2020-01-24 00:00:00+00:00  0.000000\n",
       "2020-01-25 00:00:00+00:00  0.000000\n",
       "2020-01-26 00:00:00+00:00  0.000455\n",
       "...                             ...\n",
       "2020-03-27 00:00:00+00:00  0.357159\n",
       "2020-03-28 00:00:00+00:00  0.413636\n",
       "2020-03-29 00:00:00+00:00  0.452727\n",
       "2020-03-30 00:00:00+00:00  0.495568\n",
       "2020-03-31 00:00:00+00:00  0.518068\n",
       "\n",
       "[70 rows x 1 columns]"
      ]
     },
     "execution_count": 148,
     "metadata": {},
     "output_type": "execute_result"
    }
   ],
   "source": [
    "df_AU_CBI"
   ]
  },
  {
   "cell_type": "code",
   "execution_count": 149,
   "metadata": {},
   "outputs": [
    {
     "data": {
      "text/plain": [
       "<matplotlib.axes._subplots.AxesSubplot at 0x11adf4730>"
      ]
     },
     "execution_count": 149,
     "metadata": {},
     "output_type": "execute_result"
    },
    {
     "data": {
      "image/png": "[encoded data removed]",
      "text/plain": [
       "<Figure size 432x288 with 1 Axes>"
      ]
     },
     "metadata": {
      "needs_background": "light"
     },
     "output_type": "display_data"
    }
   ],
   "source": [
    "df_AU_CBI.plot()"
   ]
  },
  {
   "cell_type": "code",
   "execution_count": null,
   "metadata": {},
   "outputs": [],
   "source": []
  },
  {
   "cell_type": "code",
   "execution_count": null,
   "metadata": {},
   "outputs": [],
   "source": []
  },
  {
   "cell_type": "code",
   "execution_count": null,
   "metadata": {},
   "outputs": [],
   "source": []
  },
  {
   "cell_type": "code",
   "execution_count": null,
   "metadata": {},
   "outputs": [],
   "source": []
  },
  {
   "cell_type": "code",
   "execution_count": null,
   "metadata": {},
   "outputs": [],
   "source": []
  }
 ],
 "metadata": {
  "kernelspec": {
   "display_name": "COVID19",
   "language": "python",
   "name": "covid19"
  },
  "language_info": {
   "codemirror_mode": {
    "name": "ipython",
    "version": 3
   },
   "file_extension": ".py",
   "mimetype": "text/x-python",
   "name": "python",
   "nbconvert_exporter": "python",
   "pygments_lexer": "ipython3",
   "version": "3.8.2"
  }
 },
 "nbformat": 4,
 "nbformat_minor": 4
}
